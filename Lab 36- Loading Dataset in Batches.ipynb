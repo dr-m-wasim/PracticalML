{
 "cells": [
  {
   "cell_type": "code",
   "execution_count": 1,
   "id": "93e8a166",
   "metadata": {},
   "outputs": [],
   "source": [
    "import torch\n",
    "from torch.utils.data import Dataset, DataLoader\n",
    "from sklearn.datasets import load_iris\n",
    "import pandas as pd"
   ]
  },
  {
   "cell_type": "code",
   "execution_count": 2,
   "id": "0592bfb1",
   "metadata": {},
   "outputs": [],
   "source": [
    "iris_dataset = load_iris()"
   ]
  },
  {
   "cell_type": "code",
   "execution_count": 13,
   "id": "1b066a94",
   "metadata": {},
   "outputs": [],
   "source": [
    "class iris(Dataset):\n",
    "    \n",
    "    def __init__(self):\n",
    "        self.X = torch.tensor(iris_dataset.data, dtype=torch.float32)\n",
    "        self.y = torch.tensor(iris_dataset.target, dtype=torch.float32)\n",
    "        self.samples = self.X.shape[0]\n",
    "    \n",
    "    def __getitem__(self, index):\n",
    "        return self.X[index], self.y[index]\n",
    "    \n",
    "    def __len__(self):\n",
    "        return self.samples\n",
    "    "
   ]
  },
  {
   "cell_type": "code",
   "execution_count": 14,
   "id": "d08c332c",
   "metadata": {},
   "outputs": [],
   "source": [
    "dataset = iris()"
   ]
  },
  {
   "cell_type": "code",
   "execution_count": 15,
   "id": "7122c567",
   "metadata": {},
   "outputs": [
    {
     "data": {
      "text/plain": [
       "150"
      ]
     },
     "execution_count": 15,
     "metadata": {},
     "output_type": "execute_result"
    }
   ],
   "source": [
    "len(dataset)"
   ]
  },
  {
   "cell_type": "code",
   "execution_count": 16,
   "id": "47af6d21",
   "metadata": {},
   "outputs": [
    {
     "data": {
      "text/plain": [
       "(tensor([5.1000, 3.5000, 1.4000, 0.2000]), tensor(0.))"
      ]
     },
     "execution_count": 16,
     "metadata": {},
     "output_type": "execute_result"
    }
   ],
   "source": [
    "dataset[0]"
   ]
  },
  {
   "cell_type": "code",
   "execution_count": 17,
   "id": "290622b4",
   "metadata": {},
   "outputs": [],
   "source": [
    "dataloader = DataLoader(dataset=dataset, batch_size=5, shuffle=True)"
   ]
  },
  {
   "cell_type": "code",
   "execution_count": 18,
   "id": "a5891433",
   "metadata": {},
   "outputs": [],
   "source": [
    "#row_wise = iter(dataloader)"
   ]
  },
  {
   "cell_type": "code",
   "execution_count": 19,
   "id": "1916d7e4",
   "metadata": {},
   "outputs": [],
   "source": [
    "#data = next(row_wise)"
   ]
  },
  {
   "cell_type": "code",
   "execution_count": 20,
   "id": "dbaf23cd",
   "metadata": {},
   "outputs": [
    {
     "data": {
      "text/plain": [
       "[tensor([[5.1000, 3.4000, 1.5000, 0.2000],\n",
       "         [6.5000, 2.8000, 4.6000, 1.5000],\n",
       "         [5.0000, 3.6000, 1.4000, 0.2000],\n",
       "         [5.2000, 4.1000, 1.5000, 0.1000],\n",
       "         [5.9000, 3.0000, 4.2000, 1.5000]]),\n",
       " tensor([0., 1., 0., 0., 1.])]"
      ]
     },
     "execution_count": 20,
     "metadata": {},
     "output_type": "execute_result"
    }
   ],
   "source": [
    "#data"
   ]
  },
  {
   "cell_type": "code",
   "execution_count": 24,
   "id": "2b54e16d",
   "metadata": {},
   "outputs": [],
   "source": [
    "import math\n",
    "\n",
    "num_epochs = 2\n",
    "total_samples = len(dataset)\n",
    "n_iterations = math.ceil(total_samples/5)"
   ]
  },
  {
   "cell_type": "code",
   "execution_count": 25,
   "id": "11bbed6a",
   "metadata": {},
   "outputs": [
    {
     "data": {
      "text/plain": [
       "30"
      ]
     },
     "execution_count": 25,
     "metadata": {},
     "output_type": "execute_result"
    }
   ],
   "source": [
    "n_iterations"
   ]
  },
  {
   "cell_type": "code",
   "execution_count": 27,
   "id": "06dd6e6d",
   "metadata": {},
   "outputs": [
    {
     "name": "stdout",
     "output_type": "stream",
     "text": [
      "Epoch 1/2, step: 5/30\n",
      "Epoch 1/2, step: 10/30\n",
      "Epoch 1/2, step: 15/30\n",
      "Epoch 1/2, step: 20/30\n",
      "Epoch 1/2, step: 25/30\n",
      "Epoch 1/2, step: 30/30\n",
      "Epoch 2/2, step: 5/30\n",
      "Epoch 2/2, step: 10/30\n",
      "Epoch 2/2, step: 15/30\n",
      "Epoch 2/2, step: 20/30\n",
      "Epoch 2/2, step: 25/30\n",
      "Epoch 2/2, step: 30/30\n"
     ]
    }
   ],
   "source": [
    "for epoch in range(num_epochs):\n",
    "    for i, (inputs, labels) in enumerate(dataloader):\n",
    "        \n",
    "        # forward pass, gradients, set gardient to zero\n",
    "        \n",
    "        if (i + 1) % 5 == 0:\n",
    "            print(f'Epoch {epoch + 1}/{num_epochs}, step: {i+1}/{n_iterations}')"
   ]
  },
  {
   "cell_type": "code",
   "execution_count": null,
   "id": "c0e0ea82",
   "metadata": {},
   "outputs": [],
   "source": []
  }
 ],
 "metadata": {
  "kernelspec": {
   "display_name": "Python 3 (ipykernel)",
   "language": "python",
   "name": "python3"
  },
  "language_info": {
   "codemirror_mode": {
    "name": "ipython",
    "version": 3
   },
   "file_extension": ".py",
   "mimetype": "text/x-python",
   "name": "python",
   "nbconvert_exporter": "python",
   "pygments_lexer": "ipython3",
   "version": "3.11.3"
  }
 },
 "nbformat": 4,
 "nbformat_minor": 5
}
