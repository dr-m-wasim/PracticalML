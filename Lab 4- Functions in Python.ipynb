{
 "cells": [
  {
   "cell_type": "markdown",
   "metadata": {},
   "source": [
    "# Functions"
   ]
  },
  {
   "cell_type": "code",
   "execution_count": 5,
   "metadata": {},
   "outputs": [],
   "source": [
    "def performOperation(num1, num2, operation='sum'):\n",
    "    if operation == 'sum':\n",
    "        return num1 + num2\n",
    "    elif operation == 'prod':\n",
    "        return num1 * num2"
   ]
  },
  {
   "cell_type": "code",
   "execution_count": 7,
   "metadata": {},
   "outputs": [
    {
     "data": {
      "text/plain": [
       "30"
      ]
     },
     "execution_count": 7,
     "metadata": {},
     "output_type": "execute_result"
    }
   ],
   "source": [
    "performOperation(5,6,'prod')"
   ]
  },
  {
   "cell_type": "markdown",
   "metadata": {},
   "source": [
    "## Named parameters"
   ]
  },
  {
   "cell_type": "code",
   "execution_count": 8,
   "metadata": {},
   "outputs": [],
   "source": [
    "def performOperation(num1, num2, operation='sum', message='default message'):\n",
    "    print(message)\n",
    "    \n",
    "    if operation == 'sum':\n",
    "        return num1 + num2\n",
    "    elif operation == 'prod':\n",
    "        return num1 * num2    "
   ]
  },
  {
   "cell_type": "code",
   "execution_count": 9,
   "metadata": {},
   "outputs": [
    {
     "name": "stdout",
     "output_type": "stream",
     "text": [
      "new message\n"
     ]
    },
    {
     "data": {
      "text/plain": [
       "36"
      ]
     },
     "execution_count": 9,
     "metadata": {},
     "output_type": "execute_result"
    }
   ],
   "source": [
    "performOperation(6,6, message='new message', operation='prod')"
   ]
  },
  {
   "cell_type": "markdown",
   "metadata": {},
   "source": [
    "## *args"
   ]
  },
  {
   "cell_type": "code",
   "execution_count": 12,
   "metadata": {},
   "outputs": [
    {
     "name": "stdout",
     "output_type": "stream",
     "text": [
      "14\n"
     ]
    }
   ],
   "source": [
    "def performOperation(*args):\n",
    "    print(sum(args))\n",
    "    \n",
    "performOperation(2,3,4,5)"
   ]
  },
  {
   "cell_type": "markdown",
   "metadata": {},
   "source": [
    "## **kwargs"
   ]
  },
  {
   "cell_type": "code",
   "execution_count": 16,
   "metadata": {},
   "outputs": [
    {
     "name": "stdout",
     "output_type": "stream",
     "text": [
      "(2, 3, 4, 5)\n",
      "my message\n"
     ]
    }
   ],
   "source": [
    "def performOperation(*args, **kwargs):\n",
    "    print(args)\n",
    "    print(kwargs['message'])\n",
    "    \n",
    "performOperation(2,3,4,5,operation='sum',message='my message')"
   ]
  },
  {
   "cell_type": "markdown",
   "metadata": {},
   "source": [
    "# Function Scope"
   ]
  },
  {
   "cell_type": "code",
   "execution_count": 17,
   "metadata": {},
   "outputs": [],
   "source": [
    "def performOperation(num1, num2, operation='sum'):\n",
    "    print(locals())\n",
    "    if operation == 'sum':\n",
    "        return num1 + num2\n",
    "    elif operation == 'prod':\n",
    "        return num1 * num2"
   ]
  },
  {
   "cell_type": "markdown",
   "metadata": {},
   "source": [
    "## locals()"
   ]
  },
  {
   "cell_type": "code",
   "execution_count": 19,
   "metadata": {},
   "outputs": [
    {
     "name": "stdout",
     "output_type": "stream",
     "text": [
      "{'num1': 6, 'num2': 7, 'operation': 'sum'}\n"
     ]
    },
    {
     "ename": "NameError",
     "evalue": "name 'num1' is not defined",
     "output_type": "error",
     "traceback": [
      "\u001b[1;31m---------------------------------------------------------------------------\u001b[0m",
      "\u001b[1;31mNameError\u001b[0m                                 Traceback (most recent call last)",
      "\u001b[1;32m<ipython-input-19-8c9029d32aad>\u001b[0m in \u001b[0;36m<module>\u001b[1;34m\u001b[0m\n\u001b[0;32m      1\u001b[0m \u001b[0mperformOperation\u001b[0m\u001b[1;33m(\u001b[0m\u001b[1;36m6\u001b[0m\u001b[1;33m,\u001b[0m\u001b[1;36m7\u001b[0m\u001b[1;33m,\u001b[0m \u001b[0moperation\u001b[0m\u001b[1;33m=\u001b[0m\u001b[1;34m'sum'\u001b[0m\u001b[1;33m)\u001b[0m\u001b[1;33m\u001b[0m\u001b[1;33m\u001b[0m\u001b[0m\n\u001b[1;32m----> 2\u001b[1;33m \u001b[0mprint\u001b[0m\u001b[1;33m(\u001b[0m\u001b[0mnum1\u001b[0m\u001b[1;33m)\u001b[0m\u001b[1;33m\u001b[0m\u001b[1;33m\u001b[0m\u001b[0m\n\u001b[0m",
      "\u001b[1;31mNameError\u001b[0m: name 'num1' is not defined"
     ]
    }
   ],
   "source": [
    "performOperation(6,7, operation='sum')\n",
    "print(num1)"
   ]
  },
  {
   "cell_type": "markdown",
   "metadata": {},
   "source": [
    "## globals()"
   ]
  },
  {
   "cell_type": "code",
   "execution_count": 20,
   "metadata": {},
   "outputs": [
    {
     "data": {
      "text/plain": [
       "{'__name__': '__main__',\n",
       " '__doc__': 'Automatically created module for IPython interactive environment',\n",
       " '__package__': None,\n",
       " '__loader__': None,\n",
       " '__spec__': None,\n",
       " '__builtin__': <module 'builtins' (built-in)>,\n",
       " '__builtins__': <module 'builtins' (built-in)>,\n",
       " '_ih': ['',\n",
       "  \"def performOperation(num1, num2, operation):\\n    if operation == 'sum':\\n        return num1 + num2\\n    elif operation == 'prod'\\n        return num1 * num2\",\n",
       "  \"def performOperation(num1, num2, operation):\\n    if operation == 'sum':\\n        return num1 + num2\\n    elif operation == 'prod':\\n        return num1 * num2\",\n",
       "  \"performOperation(5,6,'sum')\",\n",
       "  \"performOperation(5,6,'prod')\",\n",
       "  \"def performOperation(num1, num2, operation='sum'):\\n    if operation == 'sum':\\n        return num1 + num2\\n    elif operation == 'prod':\\n        return num1 * num2\",\n",
       "  'performOperation(5,6)',\n",
       "  \"performOperation(5,6,'prod')\",\n",
       "  \"def performOperation(num1, num2, operation='sum', message='default message'):\\n    print(message)\\n    \\n    if operation == 'sum':\\n        return num1 + num2\\n    elif operation == 'prod':\\n        return num1 * num2    \",\n",
       "  \"performOperation(6,6, message='new message', operation='prod')\",\n",
       "  'def performOperation(args):\\n    print(args)\\n    \\nperformOperation(2,3,4,5)',\n",
       "  'def performOperation(*args):\\n    print(args)\\n    \\nperformOperation(2,3,4,5)',\n",
       "  'def performOperation(*args):\\n    print(sum(args))\\n    \\nperformOperation(2,3,4,5)',\n",
       "  \"def performOperation(*args):\\n    print(sum(args))\\n    \\nperformOperation(2,3,4,5,operation='sum',message='my message')\",\n",
       "  \"def performOperation(*args, **kwargs):\\n    print(args)\\n    print(kwargs)\\n    \\nperformOperation(2,3,4,5,operation='sum',message='my message')\",\n",
       "  \"def performOperation(*args, **kwargs):\\n    print(args)\\n    print(kwargs['operation'])\\n    \\nperformOperation(2,3,4,5,operation='sum',message='my message')\",\n",
       "  \"def performOperation(*args, **kwargs):\\n    print(args)\\n    print(kwargs['message'])\\n    \\nperformOperation(2,3,4,5,operation='sum',message='my message')\",\n",
       "  \"def performOperation(num1, num2, operation='sum'):\\n    print(locals())\\n    if operation == 'sum':\\n        return num1 + num2\\n    elif operation == 'prod':\\n        return num1 * num2\",\n",
       "  \"performOperation(6,7, operation='sum')\",\n",
       "  \"performOperation(6,7, operation='sum')\\nprint(num1)\",\n",
       "  'globals()'],\n",
       " '_oh': {3: 11, 4: 30, 6: 11, 7: 30, 9: 36, 18: 13},\n",
       " '_dh': ['D:\\\\ds-ml-python\\\\week-1'],\n",
       " 'In': ['',\n",
       "  \"def performOperation(num1, num2, operation):\\n    if operation == 'sum':\\n        return num1 + num2\\n    elif operation == 'prod'\\n        return num1 * num2\",\n",
       "  \"def performOperation(num1, num2, operation):\\n    if operation == 'sum':\\n        return num1 + num2\\n    elif operation == 'prod':\\n        return num1 * num2\",\n",
       "  \"performOperation(5,6,'sum')\",\n",
       "  \"performOperation(5,6,'prod')\",\n",
       "  \"def performOperation(num1, num2, operation='sum'):\\n    if operation == 'sum':\\n        return num1 + num2\\n    elif operation == 'prod':\\n        return num1 * num2\",\n",
       "  'performOperation(5,6)',\n",
       "  \"performOperation(5,6,'prod')\",\n",
       "  \"def performOperation(num1, num2, operation='sum', message='default message'):\\n    print(message)\\n    \\n    if operation == 'sum':\\n        return num1 + num2\\n    elif operation == 'prod':\\n        return num1 * num2    \",\n",
       "  \"performOperation(6,6, message='new message', operation='prod')\",\n",
       "  'def performOperation(args):\\n    print(args)\\n    \\nperformOperation(2,3,4,5)',\n",
       "  'def performOperation(*args):\\n    print(args)\\n    \\nperformOperation(2,3,4,5)',\n",
       "  'def performOperation(*args):\\n    print(sum(args))\\n    \\nperformOperation(2,3,4,5)',\n",
       "  \"def performOperation(*args):\\n    print(sum(args))\\n    \\nperformOperation(2,3,4,5,operation='sum',message='my message')\",\n",
       "  \"def performOperation(*args, **kwargs):\\n    print(args)\\n    print(kwargs)\\n    \\nperformOperation(2,3,4,5,operation='sum',message='my message')\",\n",
       "  \"def performOperation(*args, **kwargs):\\n    print(args)\\n    print(kwargs['operation'])\\n    \\nperformOperation(2,3,4,5,operation='sum',message='my message')\",\n",
       "  \"def performOperation(*args, **kwargs):\\n    print(args)\\n    print(kwargs['message'])\\n    \\nperformOperation(2,3,4,5,operation='sum',message='my message')\",\n",
       "  \"def performOperation(num1, num2, operation='sum'):\\n    print(locals())\\n    if operation == 'sum':\\n        return num1 + num2\\n    elif operation == 'prod':\\n        return num1 * num2\",\n",
       "  \"performOperation(6,7, operation='sum')\",\n",
       "  \"performOperation(6,7, operation='sum')\\nprint(num1)\",\n",
       "  'globals()'],\n",
       " 'Out': {3: 11, 4: 30, 6: 11, 7: 30, 9: 36, 18: 13},\n",
       " 'get_ipython': <bound method InteractiveShell.get_ipython of <ipykernel.zmqshell.ZMQInteractiveShell object at 0x000002AB9520A708>>,\n",
       " 'exit': <IPython.core.autocall.ZMQExitAutocall at 0x2ab952365c8>,\n",
       " 'quit': <IPython.core.autocall.ZMQExitAutocall at 0x2ab952365c8>,\n",
       " '_': 13,\n",
       " '__': 36,\n",
       " '___': 30,\n",
       " '_i': \"performOperation(6,7, operation='sum')\\nprint(num1)\",\n",
       " '_ii': \"performOperation(6,7, operation='sum')\",\n",
       " '_iii': \"def performOperation(num1, num2, operation='sum'):\\n    print(locals())\\n    if operation == 'sum':\\n        return num1 + num2\\n    elif operation == 'prod':\\n        return num1 * num2\",\n",
       " '_i1': \"def performOperation(num1, num2, operation):\\n    if operation == 'sum':\\n        return num1 + num2\\n    elif operation == 'prod'\\n        return num1 * num2\",\n",
       " '_i2': \"def performOperation(num1, num2, operation):\\n    if operation == 'sum':\\n        return num1 + num2\\n    elif operation == 'prod':\\n        return num1 * num2\",\n",
       " 'performOperation': <function __main__.performOperation(num1, num2, operation='sum')>,\n",
       " '_i3': \"performOperation(5,6,'sum')\",\n",
       " '_3': 11,\n",
       " '_i4': \"performOperation(5,6,'prod')\",\n",
       " '_4': 30,\n",
       " '_i5': \"def performOperation(num1, num2, operation='sum'):\\n    if operation == 'sum':\\n        return num1 + num2\\n    elif operation == 'prod':\\n        return num1 * num2\",\n",
       " '_i6': 'performOperation(5,6)',\n",
       " '_6': 11,\n",
       " '_i7': \"performOperation(5,6,'prod')\",\n",
       " '_7': 30,\n",
       " '_i8': \"def performOperation(num1, num2, operation='sum', message='default message'):\\n    print(message)\\n    \\n    if operation == 'sum':\\n        return num1 + num2\\n    elif operation == 'prod':\\n        return num1 * num2    \",\n",
       " '_i9': \"performOperation(6,6, message='new message', operation='prod')\",\n",
       " '_9': 36,\n",
       " '_i10': 'def performOperation(args):\\n    print(args)\\n    \\nperformOperation(2,3,4,5)',\n",
       " '_i11': 'def performOperation(*args):\\n    print(args)\\n    \\nperformOperation(2,3,4,5)',\n",
       " '_i12': 'def performOperation(*args):\\n    print(sum(args))\\n    \\nperformOperation(2,3,4,5)',\n",
       " '_i13': \"def performOperation(*args):\\n    print(sum(args))\\n    \\nperformOperation(2,3,4,5,operation='sum',message='my message')\",\n",
       " '_i14': \"def performOperation(*args, **kwargs):\\n    print(args)\\n    print(kwargs)\\n    \\nperformOperation(2,3,4,5,operation='sum',message='my message')\",\n",
       " '_i15': \"def performOperation(*args, **kwargs):\\n    print(args)\\n    print(kwargs['operation'])\\n    \\nperformOperation(2,3,4,5,operation='sum',message='my message')\",\n",
       " '_i16': \"def performOperation(*args, **kwargs):\\n    print(args)\\n    print(kwargs['message'])\\n    \\nperformOperation(2,3,4,5,operation='sum',message='my message')\",\n",
       " '_i17': \"def performOperation(num1, num2, operation='sum'):\\n    print(locals())\\n    if operation == 'sum':\\n        return num1 + num2\\n    elif operation == 'prod':\\n        return num1 * num2\",\n",
       " '_i18': \"performOperation(6,7, operation='sum')\",\n",
       " '_18': 13,\n",
       " '_i19': \"performOperation(6,7, operation='sum')\\nprint(num1)\",\n",
       " '_i20': 'globals()'}"
      ]
     },
     "execution_count": 20,
     "metadata": {},
     "output_type": "execute_result"
    }
   ],
   "source": [
    "globals()"
   ]
  },
  {
   "cell_type": "markdown",
   "metadata": {},
   "source": [
    "## Local and Global Scope"
   ]
  },
  {
   "cell_type": "code",
   "execution_count": 22,
   "metadata": {},
   "outputs": [
    {
     "name": "stdout",
     "output_type": "stream",
     "text": [
      "Function 1 Message!\n",
      "{'varA': 1, 'varB': 2, 'message': 'Function 1 Message!'}\n",
      "My message\n",
      "{'varC': 3, 'varB': 4}\n"
     ]
    }
   ],
   "source": [
    "message = 'My message'\n",
    "\n",
    "def function1(varA, varB):\n",
    "    message = 'Function 1 Message!'\n",
    "    print(message)\n",
    "    print(locals())\n",
    "    \n",
    "def function2(varC, varB):\n",
    "    print(message)\n",
    "    print(locals())\n",
    "    \n",
    "function1(1,2)\n",
    "function2(3,4)"
   ]
  },
  {
   "cell_type": "markdown",
   "metadata": {},
   "source": [
    "## Text Processing in Python"
   ]
  },
  {
   "cell_type": "code",
   "execution_count": 23,
   "metadata": {},
   "outputs": [
    {
     "name": "stdout",
     "output_type": "stream",
     "text": [
      "The Zen of Python, by Tim Peters\n",
      "\n",
      "Beautiful is better than ugly.\n",
      "Explicit is better than implicit.\n",
      "Simple is better than complex.\n",
      "Complex is better than complicated.\n",
      "Flat is better than nested.\n",
      "Sparse is better than dense.\n",
      "Readability counts.\n",
      "Special cases aren't special enough to break the rules.\n",
      "Although practicality beats purity.\n",
      "Errors should never pass silently.\n",
      "Unless explicitly silenced.\n",
      "In the face of ambiguity, refuse the temptation to guess.\n",
      "There should be one-- and preferably only one --obvious way to do it.\n",
      "Although that way may not be obvious at first unless you're Dutch.\n",
      "Now is better than never.\n",
      "Although never is often better than *right* now.\n",
      "If the implementation is hard to explain, it's a bad idea.\n",
      "If the implementation is easy to explain, it may be a good idea.\n",
      "Namespaces are one honking great idea -- let's do more of those!\n"
     ]
    }
   ],
   "source": [
    "import this"
   ]
  },
  {
   "cell_type": "code",
   "execution_count": 24,
   "metadata": {},
   "outputs": [],
   "source": [
    "text = '''\n",
    "Beautiful is better than ugly.\n",
    "Explicit is better than implicit.\n",
    "Simple is better than complex.\n",
    "Complex is better than complicated.\n",
    "Flat is better than nested.\n",
    "Sparse is better than dense.\n",
    "Readability counts.\n",
    "Special cases aren't special enough to break the rules.\n",
    "Although practicality beats purity.\n",
    "Errors should never pass silently.\n",
    "Unless explicitly silenced.\n",
    "In the face of ambiguity, refuse the temptation to guess.\n",
    "There should be one-- and preferably only one --obvious way to do it.\n",
    "Although that way may not be obvious at first unless you're Dutch.\n",
    "Now is better than never.\n",
    "Although never is often better than *right* now.\n",
    "If the implementation is hard to explain, it's a bad idea.\n",
    "If the implementation is easy to explain, it may be a good idea.\n",
    "Namespaces are one honking great idea -- let's do more of those!\n",
    "'''"
   ]
  },
  {
   "cell_type": "code",
   "execution_count": 27,
   "metadata": {},
   "outputs": [],
   "source": [
    "def lowercase(text):\n",
    "    return text.lower()\n",
    "\n",
    "def removePunctuation(text):\n",
    "    punctuations = ['.', '-', ',', '*']\n",
    "    for punctuation in punctuations:\n",
    "        text = text.replace(punctuation, '')\n",
    "    return text\n",
    "\n",
    "def removeNewlines(text):\n",
    "    text = text.replace('\\n', ' ')\n",
    "    return text\n",
    "\n",
    "def removeShortWords(text):\n",
    "    return ' '.join([word for word in text.split() if len(word) > 3])\n",
    "\n",
    "def removeLongWords(text):\n",
    "    return ' '.join([word for word in text.split() if len(word) < 6])"
   ]
  },
  {
   "cell_type": "code",
   "execution_count": 29,
   "metadata": {},
   "outputs": [
    {
     "name": "stdout",
     "output_type": "stream",
     "text": [
      " beautiful is better than ugly explicit is better than implicit simple is better than complex complex is better than complicated flat is better than nested sparse is better than dense readability counts special cases aren't special enough to break the rules although practicality beats purity errors should never pass silently unless explicitly silenced in the face of ambiguity refuse the temptation to guess there should be one and preferably only one obvious way to do it although that way may not be obvious at first unless you're dutch now is better than never although never is often better than right now if the implementation is hard to explain it's a bad idea if the implementation is easy to explain it may be a good idea namespaces are one honking great idea  let's do more of those! \n"
     ]
    }
   ],
   "source": [
    "processingFunctions = [lowercase, removePunctuation, removeNewlines]\n",
    "\n",
    "for func in processingFunctions:\n",
    "    text = func(text)\n",
    "    \n",
    "print(text)"
   ]
  },
  {
   "cell_type": "markdown",
   "metadata": {},
   "source": [
    "## Lambda functions"
   ]
  },
  {
   "cell_type": "code",
   "execution_count": 30,
   "metadata": {},
   "outputs": [
    {
     "data": {
      "text/plain": [
       "8"
      ]
     },
     "execution_count": 30,
     "metadata": {},
     "output_type": "execute_result"
    }
   ],
   "source": [
    "(lambda x: x+3)(5)"
   ]
  },
  {
   "cell_type": "code",
   "execution_count": 31,
   "metadata": {},
   "outputs": [],
   "source": [
    "myList = [5,4,3,2,1]"
   ]
  },
  {
   "cell_type": "code",
   "execution_count": 32,
   "metadata": {},
   "outputs": [
    {
     "data": {
      "text/plain": [
       "[5, 4, 3, 2, 1]"
      ]
     },
     "execution_count": 32,
     "metadata": {},
     "output_type": "execute_result"
    }
   ],
   "source": [
    "myList"
   ]
  },
  {
   "cell_type": "code",
   "execution_count": 33,
   "metadata": {},
   "outputs": [
    {
     "data": {
      "text/plain": [
       "[1, 2, 3, 4, 5]"
      ]
     },
     "execution_count": 33,
     "metadata": {},
     "output_type": "execute_result"
    }
   ],
   "source": [
    "sorted(myList)"
   ]
  },
  {
   "cell_type": "code",
   "execution_count": 34,
   "metadata": {},
   "outputs": [],
   "source": [
    "myList = [{'num':10}, {'num': 5}]"
   ]
  },
  {
   "cell_type": "code",
   "execution_count": 35,
   "metadata": {},
   "outputs": [
    {
     "data": {
      "text/plain": [
       "[{'num': 10}, {'num': 5}]"
      ]
     },
     "execution_count": 35,
     "metadata": {},
     "output_type": "execute_result"
    }
   ],
   "source": [
    "myList"
   ]
  },
  {
   "cell_type": "code",
   "execution_count": 37,
   "metadata": {},
   "outputs": [
    {
     "data": {
      "text/plain": [
       "[{'num': 5}, {'num': 10}]"
      ]
     },
     "execution_count": 37,
     "metadata": {},
     "output_type": "execute_result"
    }
   ],
   "source": [
    "sorted(myList, key= lambda x: x['num'])"
   ]
  },
  {
   "cell_type": "code",
   "execution_count": null,
   "metadata": {},
   "outputs": [],
   "source": []
  }
 ],
 "metadata": {
  "kernelspec": {
   "display_name": "Python 3 (ipykernel)",
   "language": "python",
   "name": "python3"
  },
  "language_info": {
   "codemirror_mode": {
    "name": "ipython",
    "version": 3
   },
   "file_extension": ".py",
   "mimetype": "text/x-python",
   "name": "python",
   "nbconvert_exporter": "python",
   "pygments_lexer": "ipython3",
   "version": "3.10.9"
  }
 },
 "nbformat": 4,
 "nbformat_minor": 4
}
