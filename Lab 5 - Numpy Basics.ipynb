{
 "cells": [
  {
   "cell_type": "code",
   "execution_count": 1,
   "id": "6007a190",
   "metadata": {},
   "outputs": [],
   "source": [
    "import numpy as np"
   ]
  },
  {
   "cell_type": "code",
   "execution_count": 2,
   "id": "03c57636",
   "metadata": {},
   "outputs": [],
   "source": [
    "numbers = [10,20,30,40,50]"
   ]
  },
  {
   "cell_type": "code",
   "execution_count": 3,
   "id": "c9ac0337",
   "metadata": {},
   "outputs": [],
   "source": [
    "np_numbers = np.array(numbers)"
   ]
  },
  {
   "cell_type": "code",
   "execution_count": 4,
   "id": "77afccc8",
   "metadata": {},
   "outputs": [
    {
     "data": {
      "text/plain": [
       "[10, 20, 30, 40, 50]"
      ]
     },
     "execution_count": 4,
     "metadata": {},
     "output_type": "execute_result"
    }
   ],
   "source": [
    "numbers"
   ]
  },
  {
   "cell_type": "code",
   "execution_count": 5,
   "id": "13bc5216",
   "metadata": {},
   "outputs": [
    {
     "data": {
      "text/plain": [
       "array([10, 20, 30, 40, 50])"
      ]
     },
     "execution_count": 5,
     "metadata": {},
     "output_type": "execute_result"
    }
   ],
   "source": [
    "np_numbers"
   ]
  },
  {
   "cell_type": "markdown",
   "id": "18ea7e28",
   "metadata": {},
   "source": [
    "### 1. Why Numpy?"
   ]
  },
  {
   "cell_type": "code",
   "execution_count": 6,
   "id": "97ee9928",
   "metadata": {},
   "outputs": [
    {
     "data": {
      "text/plain": [
       "104"
      ]
     },
     "execution_count": 6,
     "metadata": {},
     "output_type": "execute_result"
    }
   ],
   "source": [
    "import sys\n",
    "sys.getsizeof(numbers)"
   ]
  },
  {
   "cell_type": "code",
   "execution_count": 7,
   "id": "bd84fac1",
   "metadata": {},
   "outputs": [
    {
     "data": {
      "text/plain": [
       "20"
      ]
     },
     "execution_count": 7,
     "metadata": {},
     "output_type": "execute_result"
    }
   ],
   "source": [
    "np_numbers.nbytes"
   ]
  },
  {
   "cell_type": "code",
   "execution_count": 8,
   "id": "904e0fee",
   "metadata": {},
   "outputs": [
    {
     "ename": "TypeError",
     "evalue": "can only concatenate list (not \"int\") to list",
     "output_type": "error",
     "traceback": [
      "\u001b[1;31m---------------------------------------------------------------------------\u001b[0m",
      "\u001b[1;31mTypeError\u001b[0m                                 Traceback (most recent call last)",
      "Cell \u001b[1;32mIn[8], line 2\u001b[0m\n\u001b[0;32m      1\u001b[0m \u001b[38;5;66;03m# ease of mathematical operations\u001b[39;00m\n\u001b[1;32m----> 2\u001b[0m \u001b[43mnumbers\u001b[49m\u001b[43m \u001b[49m\u001b[38;5;241;43m+\u001b[39;49m\u001b[43m \u001b[49m\u001b[38;5;241;43m2\u001b[39;49m\n",
      "\u001b[1;31mTypeError\u001b[0m: can only concatenate list (not \"int\") to list"
     ]
    }
   ],
   "source": [
    "# ease of mathematical operations\n",
    "numbers + 2"
   ]
  },
  {
   "cell_type": "code",
   "execution_count": 9,
   "id": "a8538dbc",
   "metadata": {},
   "outputs": [
    {
     "data": {
      "text/plain": [
       "array([12, 22, 32, 42, 52])"
      ]
     },
     "execution_count": 9,
     "metadata": {},
     "output_type": "execute_result"
    }
   ],
   "source": [
    "np_numbers + 2"
   ]
  },
  {
   "cell_type": "code",
   "execution_count": 13,
   "id": "eb2b17e3",
   "metadata": {},
   "outputs": [
    {
     "name": "stdout",
     "output_type": "stream",
     "text": [
      " The dot product is:  944.216879878494  Time elapsed: 0.9677410125732422  ms\n"
     ]
    }
   ],
   "source": [
    "# 3. Performance\n",
    "import time\n",
    "\n",
    "a = np.random.randn(1000000)\n",
    "b = np.random.randn(1000000)\n",
    "\n",
    "tic = time.time()\n",
    "\n",
    "z = np.dot(a, b)\n",
    "\n",
    "toc = time.time()\n",
    "\n",
    "print(' The dot product is: ', z, ' Time elapsed:', (toc-tic) * 1000, \" ms\")"
   ]
  },
  {
   "cell_type": "code",
   "execution_count": 15,
   "id": "49626f1c",
   "metadata": {},
   "outputs": [
    {
     "name": "stdout",
     "output_type": "stream",
     "text": [
      " The dot product is:  944.2168798785029  Time elapsed: 370.65768241882324  ms\n"
     ]
    }
   ],
   "source": [
    "z = 0\n",
    "tic = time.time()\n",
    "for i in range(1000000):\n",
    "    z += a[i] * b[i]\n",
    "toc = time.time()\n",
    "\n",
    "print(' The dot product is: ', z, ' Time elapsed:', (toc-tic) * 1000, \" ms\")"
   ]
  },
  {
   "cell_type": "code",
   "execution_count": null,
   "id": "53bdb3dd",
   "metadata": {},
   "outputs": [],
   "source": []
  }
 ],
 "metadata": {
  "kernelspec": {
   "display_name": "Python 3 (ipykernel)",
   "language": "python",
   "name": "python3"
  },
  "language_info": {
   "codemirror_mode": {
    "name": "ipython",
    "version": 3
   },
   "file_extension": ".py",
   "mimetype": "text/x-python",
   "name": "python",
   "nbconvert_exporter": "python",
   "pygments_lexer": "ipython3",
   "version": "3.10.9"
  }
 },
 "nbformat": 4,
 "nbformat_minor": 5
}
