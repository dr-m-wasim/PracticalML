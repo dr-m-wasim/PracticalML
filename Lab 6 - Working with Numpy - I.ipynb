{
 "cells": [
  {
   "cell_type": "code",
   "execution_count": 1,
   "id": "edcf7683",
   "metadata": {},
   "outputs": [],
   "source": [
    "import numpy as np"
   ]
  },
  {
   "cell_type": "code",
   "execution_count": 2,
   "id": "033c07d2",
   "metadata": {},
   "outputs": [],
   "source": [
    "arr1 = np.array([[1,2,3,4,5],[6,7,8,9,10]])"
   ]
  },
  {
   "cell_type": "code",
   "execution_count": 3,
   "id": "87022914",
   "metadata": {},
   "outputs": [
    {
     "data": {
      "text/plain": [
       "array([[ 1,  2,  3,  4,  5],\n",
       "       [ 6,  7,  8,  9, 10]])"
      ]
     },
     "execution_count": 3,
     "metadata": {},
     "output_type": "execute_result"
    }
   ],
   "source": [
    "arr1"
   ]
  },
  {
   "cell_type": "markdown",
   "id": "4cff719f",
   "metadata": {},
   "source": [
    "arr1[0,0]"
   ]
  },
  {
   "cell_type": "code",
   "execution_count": 6,
   "id": "ed8f57e9",
   "metadata": {},
   "outputs": [
    {
     "data": {
      "text/plain": [
       "10"
      ]
     },
     "execution_count": 6,
     "metadata": {},
     "output_type": "execute_result"
    }
   ],
   "source": [
    "arr1[1,-1]"
   ]
  },
  {
   "cell_type": "code",
   "execution_count": 7,
   "id": "d1603c05",
   "metadata": {},
   "outputs": [
    {
     "data": {
      "text/plain": [
       "2"
      ]
     },
     "execution_count": 7,
     "metadata": {},
     "output_type": "execute_result"
    }
   ],
   "source": [
    "arr1.ndim"
   ]
  },
  {
   "cell_type": "code",
   "execution_count": 10,
   "id": "c4506fef",
   "metadata": {},
   "outputs": [],
   "source": [
    "arr2 = np.array([[[1,2,3],[6,7,8]],[[9,10,11],[12,13,14]]])"
   ]
  },
  {
   "cell_type": "code",
   "execution_count": 11,
   "id": "1dad5556",
   "metadata": {},
   "outputs": [
    {
     "data": {
      "text/plain": [
       "array([[[ 1,  2,  3],\n",
       "        [ 6,  7,  8]],\n",
       "\n",
       "       [[ 9, 10, 11],\n",
       "        [12, 13, 14]]])"
      ]
     },
     "execution_count": 11,
     "metadata": {},
     "output_type": "execute_result"
    }
   ],
   "source": [
    "arr2"
   ]
  },
  {
   "cell_type": "code",
   "execution_count": 12,
   "id": "695112a3",
   "metadata": {},
   "outputs": [
    {
     "data": {
      "text/plain": [
       "14"
      ]
     },
     "execution_count": 12,
     "metadata": {},
     "output_type": "execute_result"
    }
   ],
   "source": [
    "arr2[1,1,2]"
   ]
  },
  {
   "cell_type": "code",
   "execution_count": 13,
   "id": "bc511158",
   "metadata": {},
   "outputs": [
    {
     "data": {
      "text/plain": [
       "14"
      ]
     },
     "execution_count": 13,
     "metadata": {},
     "output_type": "execute_result"
    }
   ],
   "source": [
    "arr2[-1,-1,-1]"
   ]
  },
  {
   "cell_type": "markdown",
   "id": "f5e0c36b",
   "metadata": {},
   "source": [
    "### 1. Using Bulit-in array creation functions"
   ]
  },
  {
   "cell_type": "code",
   "execution_count": 14,
   "id": "d1fa7c62",
   "metadata": {},
   "outputs": [],
   "source": [
    "integers_array = np.arange(10)"
   ]
  },
  {
   "cell_type": "code",
   "execution_count": 15,
   "id": "04fc9506",
   "metadata": {},
   "outputs": [
    {
     "data": {
      "text/plain": [
       "array([0, 1, 2, 3, 4, 5, 6, 7, 8, 9])"
      ]
     },
     "execution_count": 15,
     "metadata": {},
     "output_type": "execute_result"
    }
   ],
   "source": [
    "integers_array"
   ]
  },
  {
   "cell_type": "code",
   "execution_count": 16,
   "id": "7de47753",
   "metadata": {},
   "outputs": [],
   "source": [
    "second_arr = np.arange(100,130)"
   ]
  },
  {
   "cell_type": "code",
   "execution_count": 17,
   "id": "d7f32874",
   "metadata": {},
   "outputs": [
    {
     "data": {
      "text/plain": [
       "array([100, 101, 102, 103, 104, 105, 106, 107, 108, 109, 110, 111, 112,\n",
       "       113, 114, 115, 116, 117, 118, 119, 120, 121, 122, 123, 124, 125,\n",
       "       126, 127, 128, 129])"
      ]
     },
     "execution_count": 17,
     "metadata": {},
     "output_type": "execute_result"
    }
   ],
   "source": [
    "second_arr"
   ]
  },
  {
   "cell_type": "code",
   "execution_count": 18,
   "id": "78263024",
   "metadata": {},
   "outputs": [],
   "source": [
    "third_arr = np.arange(100,151,2)"
   ]
  },
  {
   "cell_type": "code",
   "execution_count": 19,
   "id": "92861bcf",
   "metadata": {},
   "outputs": [
    {
     "data": {
      "text/plain": [
       "array([100, 102, 104, 106, 108, 110, 112, 114, 116, 118, 120, 122, 124,\n",
       "       126, 128, 130, 132, 134, 136, 138, 140, 142, 144, 146, 148, 150])"
      ]
     },
     "execution_count": 19,
     "metadata": {},
     "output_type": "execute_result"
    }
   ],
   "source": [
    "third_arr"
   ]
  },
  {
   "cell_type": "code",
   "execution_count": 20,
   "id": "1b908030",
   "metadata": {},
   "outputs": [],
   "source": [
    "# floating point array - equally spaced\n",
    "first_float_arr = np.linspace(10,20)   # by default, it will generate 50 numbers"
   ]
  },
  {
   "cell_type": "code",
   "execution_count": 21,
   "id": "fc940cb2",
   "metadata": {},
   "outputs": [
    {
     "data": {
      "text/plain": [
       "array([10.        , 10.20408163, 10.40816327, 10.6122449 , 10.81632653,\n",
       "       11.02040816, 11.2244898 , 11.42857143, 11.63265306, 11.83673469,\n",
       "       12.04081633, 12.24489796, 12.44897959, 12.65306122, 12.85714286,\n",
       "       13.06122449, 13.26530612, 13.46938776, 13.67346939, 13.87755102,\n",
       "       14.08163265, 14.28571429, 14.48979592, 14.69387755, 14.89795918,\n",
       "       15.10204082, 15.30612245, 15.51020408, 15.71428571, 15.91836735,\n",
       "       16.12244898, 16.32653061, 16.53061224, 16.73469388, 16.93877551,\n",
       "       17.14285714, 17.34693878, 17.55102041, 17.75510204, 17.95918367,\n",
       "       18.16326531, 18.36734694, 18.57142857, 18.7755102 , 18.97959184,\n",
       "       19.18367347, 19.3877551 , 19.59183673, 19.79591837, 20.        ])"
      ]
     },
     "execution_count": 21,
     "metadata": {},
     "output_type": "execute_result"
    }
   ],
   "source": [
    "first_float_arr"
   ]
  },
  {
   "cell_type": "code",
   "execution_count": 22,
   "id": "860673dc",
   "metadata": {},
   "outputs": [],
   "source": [
    "second_float_arr = np.linspace(10, 20, 5)"
   ]
  },
  {
   "cell_type": "code",
   "execution_count": 23,
   "id": "1624506b",
   "metadata": {},
   "outputs": [
    {
     "data": {
      "text/plain": [
       "array([10. , 12.5, 15. , 17.5, 20. ])"
      ]
     },
     "execution_count": 23,
     "metadata": {},
     "output_type": "execute_result"
    }
   ],
   "source": [
    "second_float_arr"
   ]
  },
  {
   "cell_type": "code",
   "execution_count": 24,
   "id": "01a50864",
   "metadata": {},
   "outputs": [],
   "source": [
    "# random numbers\n",
    "rand_arr = np.random.rand(10)"
   ]
  },
  {
   "cell_type": "code",
   "execution_count": 25,
   "id": "9c4d7df9",
   "metadata": {},
   "outputs": [
    {
     "data": {
      "text/plain": [
       "array([0.90995729, 0.18684201, 0.23949956, 0.95823749, 0.14020585,\n",
       "       0.88248716, 0.0741773 , 0.10216348, 0.50263927, 0.89410582])"
      ]
     },
     "execution_count": 25,
     "metadata": {},
     "output_type": "execute_result"
    }
   ],
   "source": [
    "rand_arr"
   ]
  },
  {
   "cell_type": "code",
   "execution_count": 26,
   "id": "2dc348a2",
   "metadata": {},
   "outputs": [],
   "source": [
    "rand_arr = np.random.rand(4, 4)"
   ]
  },
  {
   "cell_type": "code",
   "execution_count": 27,
   "id": "b9f346a3",
   "metadata": {},
   "outputs": [
    {
     "data": {
      "text/plain": [
       "array([[0.00962887, 0.45546244, 0.94101201, 0.77156599],\n",
       "       [0.31274633, 0.32239166, 0.02653864, 0.08802259],\n",
       "       [0.52322564, 0.95485252, 0.93534882, 0.52683514],\n",
       "       [0.37587249, 0.06110117, 0.98247024, 0.8832277 ]])"
      ]
     },
     "execution_count": 27,
     "metadata": {},
     "output_type": "execute_result"
    }
   ],
   "source": [
    "rand_arr"
   ]
  },
  {
   "cell_type": "code",
   "execution_count": 28,
   "id": "c546b19c",
   "metadata": {},
   "outputs": [],
   "source": [
    "rand_int_arr = np.random.randint(0, 100, 20)"
   ]
  },
  {
   "cell_type": "code",
   "execution_count": 29,
   "id": "f4451aca",
   "metadata": {},
   "outputs": [
    {
     "data": {
      "text/plain": [
       "array([76, 10, 49, 66, 98, 48, 52, 50, 95, 74, 92, 81, 91, 18, 76, 22, 94,\n",
       "       11, 45, 19])"
      ]
     },
     "execution_count": 29,
     "metadata": {},
     "output_type": "execute_result"
    }
   ],
   "source": [
    "rand_int_arr"
   ]
  },
  {
   "cell_type": "markdown",
   "id": "69a3829c",
   "metadata": {},
   "source": [
    "### 2. Creating arrays with filled constants"
   ]
  },
  {
   "cell_type": "code",
   "execution_count": 30,
   "id": "122a78f8",
   "metadata": {},
   "outputs": [],
   "source": [
    "first_arr = np.zeros(5)"
   ]
  },
  {
   "cell_type": "code",
   "execution_count": 31,
   "id": "87c12b29",
   "metadata": {},
   "outputs": [
    {
     "data": {
      "text/plain": [
       "array([0., 0., 0., 0., 0.])"
      ]
     },
     "execution_count": 31,
     "metadata": {},
     "output_type": "execute_result"
    }
   ],
   "source": [
    "first_arr"
   ]
  },
  {
   "cell_type": "code",
   "execution_count": 32,
   "id": "7cf6d1b5",
   "metadata": {},
   "outputs": [],
   "source": [
    "second_zeros_arr = np.zeros((5, 10))"
   ]
  },
  {
   "cell_type": "code",
   "execution_count": 33,
   "id": "e9065bc2",
   "metadata": {},
   "outputs": [
    {
     "data": {
      "text/plain": [
       "array([[0., 0., 0., 0., 0., 0., 0., 0., 0., 0.],\n",
       "       [0., 0., 0., 0., 0., 0., 0., 0., 0., 0.],\n",
       "       [0., 0., 0., 0., 0., 0., 0., 0., 0., 0.],\n",
       "       [0., 0., 0., 0., 0., 0., 0., 0., 0., 0.],\n",
       "       [0., 0., 0., 0., 0., 0., 0., 0., 0., 0.]])"
      ]
     },
     "execution_count": 33,
     "metadata": {},
     "output_type": "execute_result"
    }
   ],
   "source": [
    "second_zeros_arr"
   ]
  },
  {
   "cell_type": "code",
   "execution_count": 35,
   "id": "e87d2141",
   "metadata": {},
   "outputs": [],
   "source": [
    "first_ones_arr = np.ones((5,10), dtype=np.int8)"
   ]
  },
  {
   "cell_type": "code",
   "execution_count": 36,
   "id": "a44b42b4",
   "metadata": {},
   "outputs": [
    {
     "data": {
      "text/plain": [
       "array([[1, 1, 1, 1, 1, 1, 1, 1, 1, 1],\n",
       "       [1, 1, 1, 1, 1, 1, 1, 1, 1, 1],\n",
       "       [1, 1, 1, 1, 1, 1, 1, 1, 1, 1],\n",
       "       [1, 1, 1, 1, 1, 1, 1, 1, 1, 1],\n",
       "       [1, 1, 1, 1, 1, 1, 1, 1, 1, 1]], dtype=int8)"
      ]
     },
     "execution_count": 36,
     "metadata": {},
     "output_type": "execute_result"
    }
   ],
   "source": [
    "first_ones_arr"
   ]
  },
  {
   "cell_type": "code",
   "execution_count": 37,
   "id": "7be86dbb",
   "metadata": {},
   "outputs": [],
   "source": [
    "first_arr = np.full(5, 10)"
   ]
  },
  {
   "cell_type": "code",
   "execution_count": 38,
   "id": "e7fa0dcd",
   "metadata": {},
   "outputs": [
    {
     "data": {
      "text/plain": [
       "array([10, 10, 10, 10, 10])"
      ]
     },
     "execution_count": 38,
     "metadata": {},
     "output_type": "execute_result"
    }
   ],
   "source": [
    "first_arr"
   ]
  },
  {
   "cell_type": "code",
   "execution_count": 39,
   "id": "8c92b314",
   "metadata": {},
   "outputs": [],
   "source": [
    "second_arr = np.full((2,2), 20)"
   ]
  },
  {
   "cell_type": "code",
   "execution_count": 40,
   "id": "29f98772",
   "metadata": {},
   "outputs": [
    {
     "data": {
      "text/plain": [
       "array([[20, 20],\n",
       "       [20, 20]])"
      ]
     },
     "execution_count": 40,
     "metadata": {},
     "output_type": "execute_result"
    }
   ],
   "source": [
    "second_arr"
   ]
  },
  {
   "cell_type": "markdown",
   "id": "37ff69b8",
   "metadata": {},
   "source": [
    "### 3. Finding the size and shape of an array"
   ]
  },
  {
   "cell_type": "code",
   "execution_count": 41,
   "id": "35760387",
   "metadata": {},
   "outputs": [
    {
     "data": {
      "text/plain": [
       "(2, 2)"
      ]
     },
     "execution_count": 41,
     "metadata": {},
     "output_type": "execute_result"
    }
   ],
   "source": [
    "second_arr.shape"
   ]
  },
  {
   "cell_type": "code",
   "execution_count": 42,
   "id": "cd3f8fa4",
   "metadata": {},
   "outputs": [],
   "source": [
    "arr2 = np.arange(1,13).reshape(2,6)"
   ]
  },
  {
   "cell_type": "code",
   "execution_count": 43,
   "id": "2cc6dcb8",
   "metadata": {},
   "outputs": [
    {
     "data": {
      "text/plain": [
       "array([[ 1,  2,  3,  4,  5,  6],\n",
       "       [ 7,  8,  9, 10, 11, 12]])"
      ]
     },
     "execution_count": 43,
     "metadata": {},
     "output_type": "execute_result"
    }
   ],
   "source": [
    "arr2"
   ]
  },
  {
   "cell_type": "code",
   "execution_count": 44,
   "id": "fc037c1f",
   "metadata": {},
   "outputs": [
    {
     "data": {
      "text/plain": [
       "12"
      ]
     },
     "execution_count": 44,
     "metadata": {},
     "output_type": "execute_result"
    }
   ],
   "source": [
    "np.size(arr2)"
   ]
  },
  {
   "cell_type": "markdown",
   "id": "a149f3e4",
   "metadata": {},
   "source": [
    "### 4. Adding, removing, and sorting elements"
   ]
  },
  {
   "cell_type": "code",
   "execution_count": 45,
   "id": "65c31603",
   "metadata": {},
   "outputs": [],
   "source": [
    "first_arr = np.array([1,2,3,5])"
   ]
  },
  {
   "cell_type": "code",
   "execution_count": 46,
   "id": "30081a7d",
   "metadata": {},
   "outputs": [],
   "source": [
    "new_first_arr = np.insert(first_arr, 3, 4)"
   ]
  },
  {
   "cell_type": "code",
   "execution_count": 47,
   "id": "669cb3dd",
   "metadata": {},
   "outputs": [
    {
     "data": {
      "text/plain": [
       "array([1, 2, 3, 4, 5])"
      ]
     },
     "execution_count": 47,
     "metadata": {},
     "output_type": "execute_result"
    }
   ],
   "source": [
    "new_first_arr"
   ]
  },
  {
   "cell_type": "code",
   "execution_count": 48,
   "id": "9ac5af20",
   "metadata": {},
   "outputs": [],
   "source": [
    "new_first_arr = np.append(new_first_arr, 6)"
   ]
  },
  {
   "cell_type": "code",
   "execution_count": 49,
   "id": "25388863",
   "metadata": {},
   "outputs": [
    {
     "data": {
      "text/plain": [
       "array([1, 2, 3, 4, 5, 6])"
      ]
     },
     "execution_count": 49,
     "metadata": {},
     "output_type": "execute_result"
    }
   ],
   "source": [
    "new_first_arr"
   ]
  },
  {
   "cell_type": "code",
   "execution_count": 50,
   "id": "eff541ad",
   "metadata": {},
   "outputs": [],
   "source": [
    "delete_arr = np.delete(new_first_arr, 5)"
   ]
  },
  {
   "cell_type": "code",
   "execution_count": 51,
   "id": "9bac0699",
   "metadata": {},
   "outputs": [
    {
     "data": {
      "text/plain": [
       "array([1, 2, 3, 4, 5])"
      ]
     },
     "execution_count": 51,
     "metadata": {},
     "output_type": "execute_result"
    }
   ],
   "source": [
    "delete_arr"
   ]
  },
  {
   "cell_type": "code",
   "execution_count": 52,
   "id": "c891ba5a",
   "metadata": {},
   "outputs": [],
   "source": [
    "integers_arr = np.random.randint(0, 20, 20)"
   ]
  },
  {
   "cell_type": "code",
   "execution_count": 53,
   "id": "66bf683d",
   "metadata": {},
   "outputs": [
    {
     "data": {
      "text/plain": [
       "array([12,  4, 15,  3, 13, 13,  1,  7,  6, 19,  3,  0,  7,  7, 16,  6,  9,\n",
       "        9, 15,  5])"
      ]
     },
     "execution_count": 53,
     "metadata": {},
     "output_type": "execute_result"
    }
   ],
   "source": [
    "integers_arr"
   ]
  },
  {
   "cell_type": "code",
   "execution_count": 54,
   "id": "1f351d1b",
   "metadata": {},
   "outputs": [
    {
     "data": {
      "text/plain": [
       "array([ 0,  1,  3,  3,  4,  5,  6,  6,  7,  7,  7,  9,  9, 12, 13, 13, 15,\n",
       "       15, 16, 19])"
      ]
     },
     "execution_count": 54,
     "metadata": {},
     "output_type": "execute_result"
    }
   ],
   "source": [
    "np.sort(integers_arr)"
   ]
  },
  {
   "cell_type": "code",
   "execution_count": 55,
   "id": "0a309b28",
   "metadata": {},
   "outputs": [],
   "source": [
    "arr_id = np.arange(10)"
   ]
  },
  {
   "cell_type": "code",
   "execution_count": 56,
   "id": "b3a4da13",
   "metadata": {},
   "outputs": [
    {
     "data": {
      "text/plain": [
       "array([0, 1, 2, 3, 4, 5, 6, 7, 8, 9])"
      ]
     },
     "execution_count": 56,
     "metadata": {},
     "output_type": "execute_result"
    }
   ],
   "source": [
    "arr_id"
   ]
  },
  {
   "cell_type": "code",
   "execution_count": 57,
   "id": "610db6d9",
   "metadata": {},
   "outputs": [
    {
     "data": {
      "text/plain": [
       "array([0, 1])"
      ]
     },
     "execution_count": 57,
     "metadata": {},
     "output_type": "execute_result"
    }
   ],
   "source": [
    "arr_id[:2]"
   ]
  },
  {
   "cell_type": "code",
   "execution_count": 58,
   "id": "cf8dd56b",
   "metadata": {},
   "outputs": [
    {
     "data": {
      "text/plain": [
       "array([2, 3, 4, 5])"
      ]
     },
     "execution_count": 58,
     "metadata": {},
     "output_type": "execute_result"
    }
   ],
   "source": [
    "arr_id[2:6]"
   ]
  },
  {
   "cell_type": "code",
   "execution_count": 59,
   "id": "a7020834",
   "metadata": {},
   "outputs": [
    {
     "data": {
      "text/plain": [
       "array([6, 7, 8, 9])"
      ]
     },
     "execution_count": 59,
     "metadata": {},
     "output_type": "execute_result"
    }
   ],
   "source": [
    "arr_id[6:]"
   ]
  },
  {
   "cell_type": "code",
   "execution_count": 60,
   "id": "5b3848bf",
   "metadata": {},
   "outputs": [
    {
     "data": {
      "text/plain": [
       "array([0, 2, 4, 6, 8])"
      ]
     },
     "execution_count": 60,
     "metadata": {},
     "output_type": "execute_result"
    }
   ],
   "source": [
    "arr_id[::2]"
   ]
  },
  {
   "cell_type": "code",
   "execution_count": null,
   "id": "a1876716",
   "metadata": {},
   "outputs": [],
   "source": []
  }
 ],
 "metadata": {
  "kernelspec": {
   "display_name": "Python 3 (ipykernel)",
   "language": "python",
   "name": "python3"
  },
  "language_info": {
   "codemirror_mode": {
    "name": "ipython",
    "version": 3
   },
   "file_extension": ".py",
   "mimetype": "text/x-python",
   "name": "python",
   "nbconvert_exporter": "python",
   "pygments_lexer": "ipython3",
   "version": "3.10.9"
  }
 },
 "nbformat": 4,
 "nbformat_minor": 5
}
